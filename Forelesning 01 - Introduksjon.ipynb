{
 "cells": [
  {
   "cell_type": "markdown",
   "id": "66b7156c",
   "metadata": {},
   "source": [
    "# Forelesning 01 - Introduksjon"
   ]
  },
  {
   "cell_type": "markdown",
   "id": "ad179173",
   "metadata": {},
   "source": [
    "## Arbeidskrav\n",
    "\n",
    "* 2 obliger\n",
    "* 1 prosjekt\n",
    "* Eksamen\n"
   ]
  },
  {
   "cell_type": "markdown",
   "id": "30f99232",
   "metadata": {},
   "source": [
    "## Teamer\n",
    "\n",
    "* If/else\n",
    "* For/while-løkker\n",
    "* Lese/skrive til fil\n"
   ]
  },
  {
   "cell_type": "markdown",
   "id": "1a681f8f",
   "metadata": {},
   "source": [
    "## Eksempel på python-kode"
   ]
  },
  {
   "cell_type": "code",
   "execution_count": 1,
   "id": "f40dd656",
   "metadata": {},
   "outputs": [
    {
     "name": "stdout",
     "output_type": "stream",
     "text": [
      "5\n"
     ]
    }
   ],
   "source": [
    "a = 2\n",
    "b = 3\n",
    "\n",
    "c = a + b\n",
    "\n",
    "print(c)"
   ]
  }
 ],
 "metadata": {
  "kernelspec": {
   "display_name": "Python 3 (ipykernel)",
   "language": "python",
   "name": "python3"
  },
  "language_info": {
   "codemirror_mode": {
    "name": "ipython",
    "version": 3
   },
   "file_extension": ".py",
   "mimetype": "text/x-python",
   "name": "python",
   "nbconvert_exporter": "python",
   "pygments_lexer": "ipython3",
   "version": "3.11.4"
  }
 },
 "nbformat": 4,
 "nbformat_minor": 5
}
