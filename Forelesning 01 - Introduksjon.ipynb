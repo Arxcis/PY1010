{
 "cells": [
  {
   "cell_type": "markdown",
   "id": "c67812cc",
   "metadata": {},
   "source": [
    "# Forelesning 01 - Introduksjon"
   ]
  },
  {
   "cell_type": "markdown",
   "id": "9ceb6332",
   "metadata": {},
   "source": [
    "## Arbeidskrav\n",
    "\n",
    "* 2 obliger\n",
    "* 1 prosjekt\n",
    "* Eksamen\n"
   ]
  },
  {
   "cell_type": "markdown",
   "id": "a15056c2",
   "metadata": {},
   "source": [
    "## Teamer\n",
    "\n",
    "* If/else\n",
    "* For/while-løkker\n",
    "* Lese/skrive til fil\n"
   ]
  },
  {
   "cell_type": "markdown",
   "id": "b6dafe1a",
   "metadata": {},
   "source": [
    "## Eksempel på python-kode"
   ]
  },
  {
   "cell_type": "code",
   "execution_count": 1,
   "id": "484644ee",
   "metadata": {},
   "outputs": [
    {
     "name": "stdout",
     "output_type": "stream",
     "text": [
      "5\n"
     ]
    }
   ],
   "source": [
    "a = 2\n",
    "b = 3\n",
    "\n",
    "c = a + b\n",
    "\n",
    "print(c)"
   ]
  },
  {
   "cell_type": "markdown",
   "id": "d1cb8a84",
   "metadata": {},
   "source": [
    "## Eksempel på for løkke"
   ]
  },
  {
   "cell_type": "code",
   "execution_count": 2,
   "id": "f8c50244",
   "metadata": {},
   "outputs": [
    {
     "name": "stdout",
     "output_type": "stream",
     "text": [
      "0\n",
      "1\n",
      "2\n",
      "3\n",
      "4\n",
      "5\n",
      "6\n",
      "7\n",
      "8\n",
      "9\n"
     ]
    }
   ],
   "source": [
    "\n",
    "for i in range(0, 10):\n",
    "    print(i)"
   ]
  }
 ],
 "metadata": {
  "kernelspec": {
   "display_name": "Python 3 (ipykernel)",
   "language": "python",
   "name": "python3"
  },
  "language_info": {
   "codemirror_mode": {
    "name": "ipython",
    "version": 3
   },
   "file_extension": ".py",
   "mimetype": "text/x-python",
   "name": "python",
   "nbconvert_exporter": "python",
   "pygments_lexer": "ipython3",
   "version": "3.11.4"
  }
 },
 "nbformat": 4,
 "nbformat_minor": 5
}
